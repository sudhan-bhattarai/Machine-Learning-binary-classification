{
 "cells": [
  {
   "cell_type": "markdown",
   "metadata": {},
   "source": [
    "### Load Data"
   ]
  },
  {
   "cell_type": "code",
   "execution_count": 85,
   "metadata": {},
   "outputs": [
    {
     "name": "stdout",
     "output_type": "stream",
     "text": [
      "Data Size: (5160, 24)\n"
     ]
    },
    {
     "data": {
      "text/html": [
       "<div>\n",
       "<style scoped>\n",
       "    .dataframe tbody tr th:only-of-type {\n",
       "        vertical-align: middle;\n",
       "    }\n",
       "\n",
       "    .dataframe tbody tr th {\n",
       "        vertical-align: top;\n",
       "    }\n",
       "\n",
       "    .dataframe thead th {\n",
       "        text-align: right;\n",
       "    }\n",
       "</style>\n",
       "<table border=\"1\" class=\"dataframe\">\n",
       "  <thead>\n",
       "    <tr style=\"text-align: right;\">\n",
       "      <th></th>\n",
       "      <th>Average Income</th>\n",
       "      <th>Visit</th>\n",
       "      <th>Contact Code 1</th>\n",
       "      <th>Date</th>\n",
       "      <th>Year</th>\n",
       "      <th>Distance</th>\n",
       "      <th>Target Enroll</th>\n",
       "      <th>Ethnicity</th>\n",
       "      <th>HScrat</th>\n",
       "      <th>ID</th>\n",
       "      <th>...</th>\n",
       "      <th>Mail Qualification Score</th>\n",
       "      <th>Premiere</th>\n",
       "      <th>Referal Contacts</th>\n",
       "      <th>SAT Score</th>\n",
       "      <th>Self Initiated Contacts</th>\n",
       "      <th>Sex</th>\n",
       "      <th>Solicited Contacts</th>\n",
       "      <th>Tele Counseling Qualifying</th>\n",
       "      <th>Total Contacts</th>\n",
       "      <th>Travel Init Contacts</th>\n",
       "    </tr>\n",
       "  </thead>\n",
       "  <tbody>\n",
       "    <tr>\n",
       "      <th>0</th>\n",
       "      <td>NaN</td>\n",
       "      <td>0</td>\n",
       "      <td>EML</td>\n",
       "      <td>1</td>\n",
       "      <td>2012</td>\n",
       "      <td>NaN</td>\n",
       "      <td>0</td>\n",
       "      <td>NaN</td>\n",
       "      <td>0.037652</td>\n",
       "      <td>32</td>\n",
       "      <td>...</td>\n",
       "      <td>5</td>\n",
       "      <td>0</td>\n",
       "      <td>0</td>\n",
       "      <td>NaN</td>\n",
       "      <td>1</td>\n",
       "      <td>1.0</td>\n",
       "      <td>0</td>\n",
       "      <td>NaN</td>\n",
       "      <td>1</td>\n",
       "      <td>0</td>\n",
       "    </tr>\n",
       "    <tr>\n",
       "      <th>1</th>\n",
       "      <td>NaN</td>\n",
       "      <td>0</td>\n",
       "      <td>SAT</td>\n",
       "      <td>12</td>\n",
       "      <td>2014</td>\n",
       "      <td>NaN</td>\n",
       "      <td>0</td>\n",
       "      <td>N</td>\n",
       "      <td>0.037652</td>\n",
       "      <td>51</td>\n",
       "      <td>...</td>\n",
       "      <td>5</td>\n",
       "      <td>0</td>\n",
       "      <td>0</td>\n",
       "      <td>NaN</td>\n",
       "      <td>1</td>\n",
       "      <td>1.0</td>\n",
       "      <td>0</td>\n",
       "      <td>NaN</td>\n",
       "      <td>1</td>\n",
       "      <td>0</td>\n",
       "    </tr>\n",
       "    <tr>\n",
       "      <th>2</th>\n",
       "      <td>NaN</td>\n",
       "      <td>0</td>\n",
       "      <td>C01</td>\n",
       "      <td>16</td>\n",
       "      <td>2015</td>\n",
       "      <td>NaN</td>\n",
       "      <td>0</td>\n",
       "      <td>C</td>\n",
       "      <td>0.037652</td>\n",
       "      <td>120</td>\n",
       "      <td>...</td>\n",
       "      <td>5</td>\n",
       "      <td>0</td>\n",
       "      <td>0</td>\n",
       "      <td>NaN</td>\n",
       "      <td>0</td>\n",
       "      <td>1.0</td>\n",
       "      <td>1</td>\n",
       "      <td>NaN</td>\n",
       "      <td>1</td>\n",
       "      <td>0</td>\n",
       "    </tr>\n",
       "    <tr>\n",
       "      <th>3</th>\n",
       "      <td>NaN</td>\n",
       "      <td>0</td>\n",
       "      <td>EML</td>\n",
       "      <td>11</td>\n",
       "      <td>2015</td>\n",
       "      <td>NaN</td>\n",
       "      <td>0</td>\n",
       "      <td>NaN</td>\n",
       "      <td>0.037652</td>\n",
       "      <td>151</td>\n",
       "      <td>...</td>\n",
       "      <td>5</td>\n",
       "      <td>0</td>\n",
       "      <td>0</td>\n",
       "      <td>NaN</td>\n",
       "      <td>1</td>\n",
       "      <td>0.0</td>\n",
       "      <td>0</td>\n",
       "      <td>NaN</td>\n",
       "      <td>1</td>\n",
       "      <td>0</td>\n",
       "    </tr>\n",
       "    <tr>\n",
       "      <th>4</th>\n",
       "      <td>NaN</td>\n",
       "      <td>0</td>\n",
       "      <td>TFL</td>\n",
       "      <td>28</td>\n",
       "      <td>2015</td>\n",
       "      <td>NaN</td>\n",
       "      <td>0</td>\n",
       "      <td>B</td>\n",
       "      <td>0.037652</td>\n",
       "      <td>160</td>\n",
       "      <td>...</td>\n",
       "      <td>5</td>\n",
       "      <td>0</td>\n",
       "      <td>0</td>\n",
       "      <td>1090.0</td>\n",
       "      <td>2</td>\n",
       "      <td>1.0</td>\n",
       "      <td>0</td>\n",
       "      <td>NaN</td>\n",
       "      <td>2</td>\n",
       "      <td>0</td>\n",
       "    </tr>\n",
       "  </tbody>\n",
       "</table>\n",
       "<p>5 rows × 24 columns</p>\n",
       "</div>"
      ],
      "text/plain": [
       "   Average Income  Visit Contact Code 1  Date  Year  Distance  Target Enroll  \\\n",
       "0             NaN      0            EML     1  2012       NaN              0   \n",
       "1             NaN      0            SAT    12  2014       NaN              0   \n",
       "2             NaN      0            C01    16  2015       NaN              0   \n",
       "3             NaN      0            EML    11  2015       NaN              0   \n",
       "4             NaN      0            TFL    28  2015       NaN              0   \n",
       "\n",
       "  Ethnicity    HScrat   ID  ...  Mail Qualification Score  Premiere  \\\n",
       "0       NaN  0.037652   32  ...                         5         0   \n",
       "1         N  0.037652   51  ...                         5         0   \n",
       "2         C  0.037652  120  ...                         5         0   \n",
       "3       NaN  0.037652  151  ...                         5         0   \n",
       "4         B  0.037652  160  ...                         5         0   \n",
       "\n",
       "   Referal Contacts  SAT Score  Self Initiated Contacts  Sex  \\\n",
       "0                 0        NaN                        1  1.0   \n",
       "1                 0        NaN                        1  1.0   \n",
       "2                 0        NaN                        0  1.0   \n",
       "3                 0        NaN                        1  0.0   \n",
       "4                 0     1090.0                        2  1.0   \n",
       "\n",
       "   Solicited Contacts  Tele Counseling Qualifying  Total Contacts  \\\n",
       "0                   0                         NaN               1   \n",
       "1                   0                         NaN               1   \n",
       "2                   1                         NaN               1   \n",
       "3                   0                         NaN               1   \n",
       "4                   0                         NaN               2   \n",
       "\n",
       "   Travel Init Contacts  \n",
       "0                     0  \n",
       "1                     0  \n",
       "2                     0  \n",
       "3                     0  \n",
       "4                     0  \n",
       "\n",
       "[5 rows x 24 columns]"
      ]
     },
     "execution_count": 85,
     "metadata": {},
     "output_type": "execute_result"
    }
   ],
   "source": [
    "import pandas as pd\n",
    "data = pd.read_csv('Enrollment_Data.csv',',')\n",
    "df = pd.DataFrame(data)\n",
    "titles = ['Average Income','Visit', 'Campus Visit 2','Contact Code 1', 'Date', 'Month',\n",
    "         'Year','Distance','Target Enroll','Ethnicity','HScrat','ID','Init Span','Instate','Interest Rate 1',\n",
    "          'Interest Rate 2','Interest', 'School Code', 'Level Year', 'Mail Qualification Score','Premiere', \n",
    "          'Referal Contacts', 'SAT Score', 'Self Initiated Contacts', 'Sex', 'Solicited Contacts',\n",
    "          'Tele Counseling Qualifying','Territory', 'Total Contacts','Travel Init Contacts']\n",
    "df.columns = titles\n",
    "'''\n",
    "Dropping unnecessary columns as follows:\n",
    "'''\n",
    "df = df.drop(['Campus Visit 2','Level Year','Instate','Month','Territory','School Code'],1)\n",
    "df.drop_duplicates(inplace = True)                                                           ## removing duplicate rows\n",
    "print('Data Size:',df.shape)\n",
    "df.head()"
   ]
  },
  {
   "cell_type": "markdown",
   "metadata": {},
   "source": [
    "### Data Cleaning"
   ]
  },
  {
   "cell_type": "code",
   "execution_count": 86,
   "metadata": {
    "scrolled": false
   },
   "outputs": [
    {
     "name": "stdout",
     "output_type": "stream",
     "text": [
      "Dropped column because of many non-int inputs: Contact Code 1\n",
      "Data Size: (5160, 23)\n"
     ]
    },
    {
     "data": {
      "text/html": [
       "<div>\n",
       "<style scoped>\n",
       "    .dataframe tbody tr th:only-of-type {\n",
       "        vertical-align: middle;\n",
       "    }\n",
       "\n",
       "    .dataframe tbody tr th {\n",
       "        vertical-align: top;\n",
       "    }\n",
       "\n",
       "    .dataframe thead th {\n",
       "        text-align: right;\n",
       "    }\n",
       "</style>\n",
       "<table border=\"1\" class=\"dataframe\">\n",
       "  <thead>\n",
       "    <tr style=\"text-align: right;\">\n",
       "      <th></th>\n",
       "      <th>Average Income</th>\n",
       "      <th>Visit</th>\n",
       "      <th>Date</th>\n",
       "      <th>Year</th>\n",
       "      <th>Distance</th>\n",
       "      <th>Target Enroll</th>\n",
       "      <th>Ethnicity</th>\n",
       "      <th>HScrat</th>\n",
       "      <th>ID</th>\n",
       "      <th>Init Span</th>\n",
       "      <th>...</th>\n",
       "      <th>Mail Qualification Score</th>\n",
       "      <th>Premiere</th>\n",
       "      <th>Referal Contacts</th>\n",
       "      <th>SAT Score</th>\n",
       "      <th>Self Initiated Contacts</th>\n",
       "      <th>Sex</th>\n",
       "      <th>Solicited Contacts</th>\n",
       "      <th>Tele Counseling Qualifying</th>\n",
       "      <th>Total Contacts</th>\n",
       "      <th>Travel Init Contacts</th>\n",
       "    </tr>\n",
       "  </thead>\n",
       "  <tbody>\n",
       "    <tr>\n",
       "      <th>0</th>\n",
       "      <td>53494.7471</td>\n",
       "      <td>0</td>\n",
       "      <td>1</td>\n",
       "      <td>2012</td>\n",
       "      <td>318.01614</td>\n",
       "      <td>0</td>\n",
       "      <td>C</td>\n",
       "      <td>0.037652</td>\n",
       "      <td>32</td>\n",
       "      <td>48</td>\n",
       "      <td>...</td>\n",
       "      <td>5</td>\n",
       "      <td>0</td>\n",
       "      <td>0</td>\n",
       "      <td>1149.364497</td>\n",
       "      <td>1</td>\n",
       "      <td>1.0</td>\n",
       "      <td>0</td>\n",
       "      <td>2.141568</td>\n",
       "      <td>1</td>\n",
       "      <td>0</td>\n",
       "    </tr>\n",
       "    <tr>\n",
       "      <th>1</th>\n",
       "      <td>53494.7471</td>\n",
       "      <td>0</td>\n",
       "      <td>12</td>\n",
       "      <td>2014</td>\n",
       "      <td>318.01614</td>\n",
       "      <td>0</td>\n",
       "      <td>N</td>\n",
       "      <td>0.037652</td>\n",
       "      <td>51</td>\n",
       "      <td>31</td>\n",
       "      <td>...</td>\n",
       "      <td>5</td>\n",
       "      <td>0</td>\n",
       "      <td>0</td>\n",
       "      <td>1149.364497</td>\n",
       "      <td>1</td>\n",
       "      <td>1.0</td>\n",
       "      <td>0</td>\n",
       "      <td>2.141568</td>\n",
       "      <td>1</td>\n",
       "      <td>0</td>\n",
       "    </tr>\n",
       "    <tr>\n",
       "      <th>2</th>\n",
       "      <td>53494.7471</td>\n",
       "      <td>0</td>\n",
       "      <td>16</td>\n",
       "      <td>2015</td>\n",
       "      <td>318.01614</td>\n",
       "      <td>0</td>\n",
       "      <td>C</td>\n",
       "      <td>0.037652</td>\n",
       "      <td>120</td>\n",
       "      <td>20</td>\n",
       "      <td>...</td>\n",
       "      <td>5</td>\n",
       "      <td>0</td>\n",
       "      <td>0</td>\n",
       "      <td>1149.364497</td>\n",
       "      <td>0</td>\n",
       "      <td>1.0</td>\n",
       "      <td>1</td>\n",
       "      <td>2.141568</td>\n",
       "      <td>1</td>\n",
       "      <td>0</td>\n",
       "    </tr>\n",
       "    <tr>\n",
       "      <th>3</th>\n",
       "      <td>53494.7471</td>\n",
       "      <td>0</td>\n",
       "      <td>11</td>\n",
       "      <td>2015</td>\n",
       "      <td>318.01614</td>\n",
       "      <td>0</td>\n",
       "      <td>C</td>\n",
       "      <td>0.037652</td>\n",
       "      <td>151</td>\n",
       "      <td>18</td>\n",
       "      <td>...</td>\n",
       "      <td>5</td>\n",
       "      <td>0</td>\n",
       "      <td>0</td>\n",
       "      <td>1149.364497</td>\n",
       "      <td>1</td>\n",
       "      <td>0.0</td>\n",
       "      <td>0</td>\n",
       "      <td>2.141568</td>\n",
       "      <td>1</td>\n",
       "      <td>0</td>\n",
       "    </tr>\n",
       "    <tr>\n",
       "      <th>4</th>\n",
       "      <td>53494.7471</td>\n",
       "      <td>0</td>\n",
       "      <td>28</td>\n",
       "      <td>2015</td>\n",
       "      <td>318.01614</td>\n",
       "      <td>0</td>\n",
       "      <td>B</td>\n",
       "      <td>0.037652</td>\n",
       "      <td>160</td>\n",
       "      <td>18</td>\n",
       "      <td>...</td>\n",
       "      <td>5</td>\n",
       "      <td>0</td>\n",
       "      <td>0</td>\n",
       "      <td>1090.000000</td>\n",
       "      <td>2</td>\n",
       "      <td>1.0</td>\n",
       "      <td>0</td>\n",
       "      <td>2.141568</td>\n",
       "      <td>2</td>\n",
       "      <td>0</td>\n",
       "    </tr>\n",
       "  </tbody>\n",
       "</table>\n",
       "<p>5 rows × 23 columns</p>\n",
       "</div>"
      ],
      "text/plain": [
       "   Average Income  Visit  Date  Year   Distance  Target Enroll Ethnicity  \\\n",
       "0      53494.7471      0     1  2012  318.01614              0         C   \n",
       "1      53494.7471      0    12  2014  318.01614              0         N   \n",
       "2      53494.7471      0    16  2015  318.01614              0         C   \n",
       "3      53494.7471      0    11  2015  318.01614              0         C   \n",
       "4      53494.7471      0    28  2015  318.01614              0         B   \n",
       "\n",
       "     HScrat   ID  Init Span  ...  Mail Qualification Score  Premiere  \\\n",
       "0  0.037652   32         48  ...                         5         0   \n",
       "1  0.037652   51         31  ...                         5         0   \n",
       "2  0.037652  120         20  ...                         5         0   \n",
       "3  0.037652  151         18  ...                         5         0   \n",
       "4  0.037652  160         18  ...                         5         0   \n",
       "\n",
       "   Referal Contacts    SAT Score  Self Initiated Contacts  Sex  \\\n",
       "0                 0  1149.364497                        1  1.0   \n",
       "1                 0  1149.364497                        1  1.0   \n",
       "2                 0  1149.364497                        0  1.0   \n",
       "3                 0  1149.364497                        1  0.0   \n",
       "4                 0  1090.000000                        2  1.0   \n",
       "\n",
       "   Solicited Contacts  Tele Counseling Qualifying  Total Contacts  \\\n",
       "0                   0                    2.141568               1   \n",
       "1                   0                    2.141568               1   \n",
       "2                   1                    2.141568               1   \n",
       "3                   0                    2.141568               1   \n",
       "4                   0                    2.141568               2   \n",
       "\n",
       "   Travel Init Contacts  \n",
       "0                     0  \n",
       "1                     0  \n",
       "2                     0  \n",
       "3                     0  \n",
       "4                     0  \n",
       "\n",
       "[5 rows x 23 columns]"
      ]
     },
     "execution_count": 86,
     "metadata": {},
     "output_type": "execute_result"
    },
    {
     "data": {
      "image/png": "[encoded data removed]",
      "text/plain": [
       "<Figure size 432x288 with 9 Axes>"
      ]
     },
     "metadata": {
      "needs_background": "light"
     },
     "output_type": "display_data"
    }
   ],
   "source": [
    "import numpy as np\n",
    "for column in df.columns:\n",
    "    if df[column].dtypes == int or df[column].dtypes == float:                        ## only dealing with numbers\n",
    "        df2 = df[column]                                           ## new dataframe with each column in it       \n",
    "        df2 = df2.dropna()                                     ## new dataframe with only known values\n",
    "        if abs(np.mean(df2)-np.median(df2)) <= np.std(df2):   ## if to replace 'nan' with mean or median\n",
    "            df[column].fillna(np.mean(df2), inplace = True)                  ## if |mean-median| <= std, replace 'nan' with mean\n",
    "        else:\n",
    "            df[column].fillna(np.median(df2), inplace = True)                ## if |mean-median| > std, replace 'nan' with median\n",
    "          \n",
    "for column in df.columns:\n",
    "    if df[column].dtypes == object or df[column].dtypes == str:    ## dealing with object and str values\n",
    "        df3 = df[column]                                            ## creating new dataframe for each column to compute frequency\n",
    "        df3 = df3.dropna()\n",
    "        list_ = list(df3.unique())                         ## listing no of unique objects in column\n",
    "        if len(list_) <= 12:                    ## data for modeling will only contain columns with unique objects <= 12 \n",
    "            total_count = 0\n",
    "            value_ = str\n",
    "            for value in list_:\n",
    "                if value != 'nan':\n",
    "                    count = df3.loc[df3 == value]  ## frequency of object in each column   \n",
    "                    count = int(count.shape[0])\n",
    "                    if count >= total_count:\n",
    "                        total_count = count\n",
    "                        value_ = value\n",
    "            df[column].fillna(value_, inplace = True)    ## replacing 'nan' with most frequent object\n",
    "        else:\n",
    "            df = df.drop(column,1)                       ## getting rid of columns with more than 12 unique object values\n",
    "            print('Dropped column because of many non-int inputs:',column)\n",
    "print('Data Size:',df.shape)\n",
    "df.iloc[:,0:10].plot.hist(subplots = True, layout = (3,3))\n",
    "df.head()"
   ]
  },
  {
   "cell_type": "markdown",
   "metadata": {},
   "source": [
    "### Qualitative data formatting"
   ]
  },
  {
   "cell_type": "code",
   "execution_count": 87,
   "metadata": {
    "scrolled": true
   },
   "outputs": [
    {
     "name": "stderr",
     "output_type": "stream",
     "text": [
      "c:\\users\\stan\\appdata\\local\\programs\\python\\python37\\lib\\site-packages\\ipykernel_launcher.py:10: SettingWithCopyWarning: \n",
      "A value is trying to be set on a copy of a slice from a DataFrame\n",
      "\n",
      "See the caveats in the documentation: http://pandas.pydata.org/pandas-docs/stable/user_guide/indexing.html#returning-a-view-versus-a-copy\n",
      "  # Remove the CWD from sys.path while we load stuff.\n",
      "c:\\users\\stan\\appdata\\local\\programs\\python\\python37\\lib\\site-packages\\ipykernel_launcher.py:12: SettingWithCopyWarning: \n",
      "A value is trying to be set on a copy of a slice from a DataFrame\n",
      "\n",
      "See the caveats in the documentation: http://pandas.pydata.org/pandas-docs/stable/user_guide/indexing.html#returning-a-view-versus-a-copy\n",
      "  if sys.path[0] == '':\n"
     ]
    },
    {
     "name": "stdout",
     "output_type": "stream",
     "text": [
      "Old Data Size: (5160, 23)\n",
      "New Data Size: (5160, 29)\n",
      "Number of columns added: 6\n"
     ]
    },
    {
     "data": {
      "text/html": [
       "<div>\n",
       "<style scoped>\n",
       "    .dataframe tbody tr th:only-of-type {\n",
       "        vertical-align: middle;\n",
       "    }\n",
       "\n",
       "    .dataframe tbody tr th {\n",
       "        vertical-align: top;\n",
       "    }\n",
       "\n",
       "    .dataframe thead th {\n",
       "        text-align: right;\n",
       "    }\n",
       "</style>\n",
       "<table border=\"1\" class=\"dataframe\">\n",
       "  <thead>\n",
       "    <tr style=\"text-align: right;\">\n",
       "      <th></th>\n",
       "      <th>Average Income</th>\n",
       "      <th>Visit</th>\n",
       "      <th>Date</th>\n",
       "      <th>Year</th>\n",
       "      <th>Distance</th>\n",
       "      <th>Target Enroll</th>\n",
       "      <th>HScrat</th>\n",
       "      <th>ID</th>\n",
       "      <th>Init Span</th>\n",
       "      <th>Interest Rate 1</th>\n",
       "      <th>...</th>\n",
       "      <th>Tele Counseling Qualifying</th>\n",
       "      <th>Total Contacts</th>\n",
       "      <th>Travel Init Contacts</th>\n",
       "      <th>EthnicityC</th>\n",
       "      <th>EthnicityN</th>\n",
       "      <th>EthnicityB</th>\n",
       "      <th>EthnicityH</th>\n",
       "      <th>EthnicityA</th>\n",
       "      <th>EthnicityO</th>\n",
       "      <th>EthnicityI</th>\n",
       "    </tr>\n",
       "  </thead>\n",
       "  <tbody>\n",
       "    <tr>\n",
       "      <th>0</th>\n",
       "      <td>53494.7471</td>\n",
       "      <td>0</td>\n",
       "      <td>1</td>\n",
       "      <td>2012</td>\n",
       "      <td>318.01614</td>\n",
       "      <td>0</td>\n",
       "      <td>0.037652</td>\n",
       "      <td>32</td>\n",
       "      <td>48</td>\n",
       "      <td>0.017183</td>\n",
       "      <td>...</td>\n",
       "      <td>2.141568</td>\n",
       "      <td>1</td>\n",
       "      <td>0</td>\n",
       "      <td>1</td>\n",
       "      <td>0</td>\n",
       "      <td>0</td>\n",
       "      <td>0</td>\n",
       "      <td>0</td>\n",
       "      <td>0</td>\n",
       "      <td>0</td>\n",
       "    </tr>\n",
       "    <tr>\n",
       "      <th>1</th>\n",
       "      <td>53494.7471</td>\n",
       "      <td>0</td>\n",
       "      <td>12</td>\n",
       "      <td>2014</td>\n",
       "      <td>318.01614</td>\n",
       "      <td>0</td>\n",
       "      <td>0.037652</td>\n",
       "      <td>51</td>\n",
       "      <td>31</td>\n",
       "      <td>0.017183</td>\n",
       "      <td>...</td>\n",
       "      <td>2.141568</td>\n",
       "      <td>1</td>\n",
       "      <td>0</td>\n",
       "      <td>0</td>\n",
       "      <td>1</td>\n",
       "      <td>0</td>\n",
       "      <td>0</td>\n",
       "      <td>0</td>\n",
       "      <td>0</td>\n",
       "      <td>0</td>\n",
       "    </tr>\n",
       "    <tr>\n",
       "      <th>2</th>\n",
       "      <td>53494.7471</td>\n",
       "      <td>0</td>\n",
       "      <td>16</td>\n",
       "      <td>2015</td>\n",
       "      <td>318.01614</td>\n",
       "      <td>0</td>\n",
       "      <td>0.037652</td>\n",
       "      <td>120</td>\n",
       "      <td>20</td>\n",
       "      <td>0.017183</td>\n",
       "      <td>...</td>\n",
       "      <td>2.141568</td>\n",
       "      <td>1</td>\n",
       "      <td>0</td>\n",
       "      <td>1</td>\n",
       "      <td>0</td>\n",
       "      <td>0</td>\n",
       "      <td>0</td>\n",
       "      <td>0</td>\n",
       "      <td>0</td>\n",
       "      <td>0</td>\n",
       "    </tr>\n",
       "    <tr>\n",
       "      <th>3</th>\n",
       "      <td>53494.7471</td>\n",
       "      <td>0</td>\n",
       "      <td>11</td>\n",
       "      <td>2015</td>\n",
       "      <td>318.01614</td>\n",
       "      <td>0</td>\n",
       "      <td>0.037652</td>\n",
       "      <td>151</td>\n",
       "      <td>18</td>\n",
       "      <td>0.017183</td>\n",
       "      <td>...</td>\n",
       "      <td>2.141568</td>\n",
       "      <td>1</td>\n",
       "      <td>0</td>\n",
       "      <td>1</td>\n",
       "      <td>0</td>\n",
       "      <td>0</td>\n",
       "      <td>0</td>\n",
       "      <td>0</td>\n",
       "      <td>0</td>\n",
       "      <td>0</td>\n",
       "    </tr>\n",
       "    <tr>\n",
       "      <th>4</th>\n",
       "      <td>53494.7471</td>\n",
       "      <td>0</td>\n",
       "      <td>28</td>\n",
       "      <td>2015</td>\n",
       "      <td>318.01614</td>\n",
       "      <td>0</td>\n",
       "      <td>0.037652</td>\n",
       "      <td>160</td>\n",
       "      <td>18</td>\n",
       "      <td>0.017183</td>\n",
       "      <td>...</td>\n",
       "      <td>2.141568</td>\n",
       "      <td>2</td>\n",
       "      <td>0</td>\n",
       "      <td>0</td>\n",
       "      <td>0</td>\n",
       "      <td>1</td>\n",
       "      <td>0</td>\n",
       "      <td>0</td>\n",
       "      <td>0</td>\n",
       "      <td>0</td>\n",
       "    </tr>\n",
       "  </tbody>\n",
       "</table>\n",
       "<p>5 rows × 29 columns</p>\n",
       "</div>"
      ],
      "text/plain": [
       "   Average Income  Visit  Date  Year   Distance  Target Enroll    HScrat   ID  \\\n",
       "0      53494.7471      0     1  2012  318.01614              0  0.037652   32   \n",
       "1      53494.7471      0    12  2014  318.01614              0  0.037652   51   \n",
       "2      53494.7471      0    16  2015  318.01614              0  0.037652  120   \n",
       "3      53494.7471      0    11  2015  318.01614              0  0.037652  151   \n",
       "4      53494.7471      0    28  2015  318.01614              0  0.037652  160   \n",
       "\n",
       "   Init Span  Interest Rate 1  ...  Tele Counseling Qualifying  \\\n",
       "0         48         0.017183  ...                    2.141568   \n",
       "1         31         0.017183  ...                    2.141568   \n",
       "2         20         0.017183  ...                    2.141568   \n",
       "3         18         0.017183  ...                    2.141568   \n",
       "4         18         0.017183  ...                    2.141568   \n",
       "\n",
       "   Total Contacts  Travel Init Contacts  EthnicityC  EthnicityN  EthnicityB  \\\n",
       "0               1                     0           1           0           0   \n",
       "1               1                     0           0           1           0   \n",
       "2               1                     0           1           0           0   \n",
       "3               1                     0           1           0           0   \n",
       "4               2                     0           0           0           1   \n",
       "\n",
       "   EthnicityH  EthnicityA  EthnicityO  EthnicityI  \n",
       "0           0           0           0           0  \n",
       "1           0           0           0           0  \n",
       "2           0           0           0           0  \n",
       "3           0           0           0           0  \n",
       "4           0           0           0           0  \n",
       "\n",
       "[5 rows x 29 columns]"
      ]
     },
     "execution_count": 87,
     "metadata": {},
     "output_type": "execute_result"
    }
   ],
   "source": [
    "df4 = df                       ## replicating dataframe to avoid infinity loop\n",
    "initial_shape = df.shape\n",
    "for column in df4.columns:\n",
    "    if df4[column].dtypes == object or df4[column].dtypes == str:   ## qualitative data columns\n",
    "        list_ = list(df4[column].unique())  \n",
    "        for value in list_:\n",
    "            df[str(column)+str(value)] = None   ## creating new column with object name in parent column\n",
    "            for i in range(df.shape[0]):\n",
    "                if df[column][i] == value:           \n",
    "                    df[str(column)+str(value)][i] = 1  ## assigning value '1' if object appear in parent column for same index\n",
    "                else:\n",
    "                    df[str(column)+str(value)][i] = 0  ## assigning value '0' if object do not appear in parent column for same index\n",
    "        df = df.drop(column,1)                        ## dropping parent column once all objects in it has their own columns\n",
    "print('Old Data Size:',initial_shape)\n",
    "print('New Data Size:',df.shape)\n",
    "print('Number of columns added:',df.shape[1]-initial_shape[1])\n",
    "df.head()"
   ]
  },
  {
   "cell_type": "markdown",
   "metadata": {},
   "source": [
    "### Normalization"
   ]
  },
  {
   "cell_type": "code",
   "execution_count": 88,
   "metadata": {},
   "outputs": [
    {
     "data": {
      "text/html": [
       "<div>\n",
       "<style scoped>\n",
       "    .dataframe tbody tr th:only-of-type {\n",
       "        vertical-align: middle;\n",
       "    }\n",
       "\n",
       "    .dataframe tbody tr th {\n",
       "        vertical-align: top;\n",
       "    }\n",
       "\n",
       "    .dataframe thead th {\n",
       "        text-align: right;\n",
       "    }\n",
       "</style>\n",
       "<table border=\"1\" class=\"dataframe\">\n",
       "  <thead>\n",
       "    <tr style=\"text-align: right;\">\n",
       "      <th></th>\n",
       "      <th>Average Income</th>\n",
       "      <th>Visit</th>\n",
       "      <th>Date</th>\n",
       "      <th>Year</th>\n",
       "      <th>Distance</th>\n",
       "      <th>Target Enroll</th>\n",
       "      <th>HScrat</th>\n",
       "      <th>ID</th>\n",
       "      <th>Init Span</th>\n",
       "      <th>Interest Rate 1</th>\n",
       "      <th>...</th>\n",
       "      <th>Tele Counseling Qualifying</th>\n",
       "      <th>Total Contacts</th>\n",
       "      <th>Travel Init Contacts</th>\n",
       "      <th>EthnicityC</th>\n",
       "      <th>EthnicityN</th>\n",
       "      <th>EthnicityB</th>\n",
       "      <th>EthnicityH</th>\n",
       "      <th>EthnicityA</th>\n",
       "      <th>EthnicityO</th>\n",
       "      <th>EthnicityI</th>\n",
       "    </tr>\n",
       "  </thead>\n",
       "  <tbody>\n",
       "    <tr>\n",
       "      <th>0</th>\n",
       "      <td>0.0</td>\n",
       "      <td>0.075097</td>\n",
       "      <td>0.490252</td>\n",
       "      <td>0.435110</td>\n",
       "      <td>0.0</td>\n",
       "      <td>0</td>\n",
       "      <td>0.050938</td>\n",
       "      <td>0.541756</td>\n",
       "      <td>0.099945</td>\n",
       "      <td>0.028338</td>\n",
       "      <td>...</td>\n",
       "      <td>1.480297e-16</td>\n",
       "      <td>0.127024</td>\n",
       "      <td>0.08938</td>\n",
       "      <td>0.369961</td>\n",
       "      <td>0.08876</td>\n",
       "      <td>0.083527</td>\n",
       "      <td>0.107946</td>\n",
       "      <td>0.056977</td>\n",
       "      <td>0.026744</td>\n",
       "      <td>0.006008</td>\n",
       "    </tr>\n",
       "    <tr>\n",
       "      <th>1</th>\n",
       "      <td>0.0</td>\n",
       "      <td>0.075097</td>\n",
       "      <td>0.123585</td>\n",
       "      <td>0.101776</td>\n",
       "      <td>0.0</td>\n",
       "      <td>0</td>\n",
       "      <td>0.050938</td>\n",
       "      <td>0.541525</td>\n",
       "      <td>0.040917</td>\n",
       "      <td>0.028338</td>\n",
       "      <td>...</td>\n",
       "      <td>1.480297e-16</td>\n",
       "      <td>0.127024</td>\n",
       "      <td>0.08938</td>\n",
       "      <td>0.630039</td>\n",
       "      <td>0.91124</td>\n",
       "      <td>0.083527</td>\n",
       "      <td>0.107946</td>\n",
       "      <td>0.056977</td>\n",
       "      <td>0.026744</td>\n",
       "      <td>0.006008</td>\n",
       "    </tr>\n",
       "    <tr>\n",
       "      <th>2</th>\n",
       "      <td>0.0</td>\n",
       "      <td>0.075097</td>\n",
       "      <td>0.009748</td>\n",
       "      <td>0.064890</td>\n",
       "      <td>0.0</td>\n",
       "      <td>0</td>\n",
       "      <td>0.050938</td>\n",
       "      <td>0.540687</td>\n",
       "      <td>0.002723</td>\n",
       "      <td>0.028338</td>\n",
       "      <td>...</td>\n",
       "      <td>1.480297e-16</td>\n",
       "      <td>0.127024</td>\n",
       "      <td>0.08938</td>\n",
       "      <td>0.369961</td>\n",
       "      <td>0.08876</td>\n",
       "      <td>0.083527</td>\n",
       "      <td>0.107946</td>\n",
       "      <td>0.056977</td>\n",
       "      <td>0.026744</td>\n",
       "      <td>0.006008</td>\n",
       "    </tr>\n",
       "    <tr>\n",
       "      <th>3</th>\n",
       "      <td>0.0</td>\n",
       "      <td>0.075097</td>\n",
       "      <td>0.156919</td>\n",
       "      <td>0.064890</td>\n",
       "      <td>0.0</td>\n",
       "      <td>0</td>\n",
       "      <td>0.050938</td>\n",
       "      <td>0.540310</td>\n",
       "      <td>0.004222</td>\n",
       "      <td>0.028338</td>\n",
       "      <td>...</td>\n",
       "      <td>1.480297e-16</td>\n",
       "      <td>0.127024</td>\n",
       "      <td>0.08938</td>\n",
       "      <td>0.369961</td>\n",
       "      <td>0.08876</td>\n",
       "      <td>0.083527</td>\n",
       "      <td>0.107946</td>\n",
       "      <td>0.056977</td>\n",
       "      <td>0.026744</td>\n",
       "      <td>0.006008</td>\n",
       "    </tr>\n",
       "    <tr>\n",
       "      <th>4</th>\n",
       "      <td>0.0</td>\n",
       "      <td>0.075097</td>\n",
       "      <td>0.409748</td>\n",
       "      <td>0.064890</td>\n",
       "      <td>0.0</td>\n",
       "      <td>0</td>\n",
       "      <td>0.050938</td>\n",
       "      <td>0.540201</td>\n",
       "      <td>0.004222</td>\n",
       "      <td>0.028338</td>\n",
       "      <td>...</td>\n",
       "      <td>1.480297e-16</td>\n",
       "      <td>0.089987</td>\n",
       "      <td>0.08938</td>\n",
       "      <td>0.630039</td>\n",
       "      <td>0.08876</td>\n",
       "      <td>0.916473</td>\n",
       "      <td>0.107946</td>\n",
       "      <td>0.056977</td>\n",
       "      <td>0.026744</td>\n",
       "      <td>0.006008</td>\n",
       "    </tr>\n",
       "  </tbody>\n",
       "</table>\n",
       "<p>5 rows × 29 columns</p>\n",
       "</div>"
      ],
      "text/plain": [
       "   Average Income     Visit      Date      Year  Distance  Target Enroll  \\\n",
       "0             0.0  0.075097  0.490252  0.435110       0.0              0   \n",
       "1             0.0  0.075097  0.123585  0.101776       0.0              0   \n",
       "2             0.0  0.075097  0.009748  0.064890       0.0              0   \n",
       "3             0.0  0.075097  0.156919  0.064890       0.0              0   \n",
       "4             0.0  0.075097  0.409748  0.064890       0.0              0   \n",
       "\n",
       "     HScrat        ID  Init Span  Interest Rate 1  ...  \\\n",
       "0  0.050938  0.541756   0.099945         0.028338  ...   \n",
       "1  0.050938  0.541525   0.040917         0.028338  ...   \n",
       "2  0.050938  0.540687   0.002723         0.028338  ...   \n",
       "3  0.050938  0.540310   0.004222         0.028338  ...   \n",
       "4  0.050938  0.540201   0.004222         0.028338  ...   \n",
       "\n",
       "   Tele Counseling Qualifying  Total Contacts  Travel Init Contacts  \\\n",
       "0                1.480297e-16        0.127024               0.08938   \n",
       "1                1.480297e-16        0.127024               0.08938   \n",
       "2                1.480297e-16        0.127024               0.08938   \n",
       "3                1.480297e-16        0.127024               0.08938   \n",
       "4                1.480297e-16        0.089987               0.08938   \n",
       "\n",
       "   EthnicityC  EthnicityN  EthnicityB  EthnicityH  EthnicityA  EthnicityO  \\\n",
       "0    0.369961     0.08876    0.083527    0.107946    0.056977    0.026744   \n",
       "1    0.630039     0.91124    0.083527    0.107946    0.056977    0.026744   \n",
       "2    0.369961     0.08876    0.083527    0.107946    0.056977    0.026744   \n",
       "3    0.369961     0.08876    0.083527    0.107946    0.056977    0.026744   \n",
       "4    0.630039     0.08876    0.916473    0.107946    0.056977    0.026744   \n",
       "\n",
       "   EthnicityI  \n",
       "0    0.006008  \n",
       "1    0.006008  \n",
       "2    0.006008  \n",
       "3    0.006008  \n",
       "4    0.006008  \n",
       "\n",
       "[5 rows x 29 columns]"
      ]
     },
     "execution_count": 88,
     "metadata": {},
     "output_type": "execute_result"
    }
   ],
   "source": [
    "''' Normalizing data in each column with formula: (x-mean)/(max-min)'''\n",
    "import numpy as np\n",
    "for column in df.columns:\n",
    "    if column != 'Target Enroll':\n",
    "        mean = np.mean(df[column])\n",
    "        _max = np.max(df[column])\n",
    "        _min = np.min(df[column])\n",
    "        df[column] = pd.DataFrame(map(lambda x: abs(x - mean) / (_max - _min), df[column]))\n",
    "df.head()"
   ]
  },
  {
   "cell_type": "markdown",
   "metadata": {},
   "source": [
    "### Input/Output"
   ]
  },
  {
   "cell_type": "code",
   "execution_count": 89,
   "metadata": {},
   "outputs": [],
   "source": [
    "y = df[\"Target Enroll\"]                     # Y: Output value (binary output: {0,1})\n",
    "x = df.drop(\"Target Enroll\",1)              # X: Input features"
   ]
  },
  {
   "cell_type": "markdown",
   "metadata": {},
   "source": [
    "### Train/Test Split"
   ]
  },
  {
   "cell_type": "code",
   "execution_count": 90,
   "metadata": {},
   "outputs": [
    {
     "name": "stdout",
     "output_type": "stream",
     "text": [
      "Train/Test Split ratio 80/20\n",
      "Number of Training Data: 4128\n",
      "Number of Test Data: 1032\n"
     ]
    }
   ],
   "source": [
    "from sklearn.model_selection import train_test_split\n",
    "test_size = 0.2\n",
    "x_train, x_test, y_train, y_test = train_test_split(x, y, test_size = test_size, random_state = 0)\n",
    "print('Train/Test Split ratio {}/{}'.format(int((1-test_size)*100), int(test_size*100)))\n",
    "print('Number of Training Data:', x_train.shape[0])\n",
    "print('Number of Test Data:',x_test.shape[0])"
   ]
  },
  {
   "cell_type": "markdown",
   "metadata": {},
   "source": [
    "### Frequency Plot"
   ]
  },
  {
   "cell_type": "code",
   "execution_count": 91,
   "metadata": {},
   "outputs": [
    {
     "data": {
      "text/plain": [
       "Text(0.8, 600, '1: 511')"
      ]
     },
     "execution_count": 91,
     "metadata": {},
     "output_type": "execute_result"
    },
    {
     "data": {
      "image/png": "[encoded data removed]",
      "text/plain": [
       "<Figure size 432x288 with 2 Axes>"
      ]
     },
     "metadata": {
      "needs_background": "light"
     },
     "output_type": "display_data"
    }
   ],
   "source": [
    "import matplotlib.pyplot as plt\n",
    "plt.subplot(1,3,1)\n",
    "hist = plt.hist(y_train, bins = 'auto')\n",
    "plt.axis((-0.2,1.5,0,2500))\n",
    "plt.title('Train Data Frequency')\n",
    "plt.text(-0.1,2250, str('0:')+' '+ str(y_train.loc[y_train==0].shape[0]))       ## counting no of 'zeros'\n",
    "plt.text(0.8,2250, str('1:')+' '+ str(y_train.loc[y_train==1].shape[0]))        ## counting no if 'ones'\n",
    "\n",
    "plt.subplot(1,3,3)\n",
    "plt.hist(y_test, bins = 'auto')\n",
    "plt.axis((-0.2,1.5,0,2500))\n",
    "plt.title('Test Data Frequency')\n",
    "plt.text(-0.1,600, str('0:')+' '+ str(y_test.loc[y_test==0].shape[0]))     ## zeroes \n",
    "plt.text(0.8,600, str('1:')+' '+ str(y_test.loc[y_test==1].shape[0]))       ## ones"
   ]
  },
  {
   "cell_type": "markdown",
   "metadata": {},
   "source": [
    "### Models"
   ]
  },
  {
   "cell_type": "code",
   "execution_count": 92,
   "metadata": {},
   "outputs": [],
   "source": [
    "models = {}           ## initializing an empty dictionary\n",
    "kFolds = 5"
   ]
  },
  {
   "cell_type": "markdown",
   "metadata": {},
   "source": [
    "### Logistic Regression"
   ]
  },
  {
   "cell_type": "code",
   "execution_count": 93,
   "metadata": {
    "scrolled": true
   },
   "outputs": [
    {
     "name": "stdout",
     "output_type": "stream",
     "text": [
      "Hyper parameters: solver, penalty, C shape are: ['newton-cg', 'l2', 0.0001]\n",
      "F1 score is: 0.7052522460262614\n",
      "confusion matrix is:\n",
      " [[ 381 1678]\n",
      " [  28 2041]]\n",
      "Hyper parameters: solver, penalty, C shape are: ['newton-cg', 'l2', 0.001]\n",
      "F1 score is: 0.7698519515477793\n",
      "confusion matrix is:\n",
      " [[1843  216]\n",
      " [ 639 1430]]\n",
      "Hyper parameters: solver, penalty, C shape are: ['newton-cg', 'l2', 0.01]\n",
      "F1 score is: 0.7654048079579995\n",
      "confusion matrix is:\n",
      " [[1894  165]\n",
      " [ 684 1385]]\n",
      "Hyper parameters: solver, penalty, C shape are: ['newton-cg', 'l2', 0.1]\n",
      "F1 score is: 0.786096256684492\n",
      "confusion matrix is:\n",
      " [[1858  201]\n",
      " [ 599 1470]]\n",
      "Hyper parameters: solver, penalty, C shape are: ['newton-cg', 'l2', 1]\n",
      "F1 score is: 0.8094141724226144\n",
      "confusion matrix is:\n",
      " [[1801  258]\n",
      " [ 487 1582]]\n",
      "Hyper parameters: solver, penalty, C shape are: ['newton-cg', 'l2', 10]\n",
      "F1 score is: 0.8117706747843734\n",
      "confusion matrix is:\n",
      " [[1786  273]\n",
      " [ 469 1600]]\n",
      "Hyper parameters: solver, penalty, C shape are: ['newton-cg', 'l2', 100]\n",
      "F1 score is: 0.8134649455833965\n",
      "confusion matrix is:\n",
      " [[1784  275]\n",
      " [ 462 1607]]\n",
      "Hyper parameters: solver, penalty, C shape are: ['lbfgs', 'l2', 0.0001]\n",
      "F1 score is: 0.7052522460262614\n",
      "confusion matrix is:\n",
      " [[ 381 1678]\n",
      " [  28 2041]]\n",
      "Hyper parameters: solver, penalty, C shape are: ['lbfgs', 'l2', 0.001]\n",
      "F1 score is: 0.7698519515477793\n",
      "confusion matrix is:\n",
      " [[1843  216]\n",
      " [ 639 1430]]\n",
      "Hyper parameters: solver, penalty, C shape are: ['lbfgs', 'l2', 0.01]\n",
      "F1 score is: 0.7654048079579995\n",
      "confusion matrix is:\n",
      " [[1894  165]\n",
      " [ 684 1385]]\n",
      "Hyper parameters: solver, penalty, C shape are: ['lbfgs', 'l2', 0.1]\n",
      "F1 score is: 0.786096256684492\n",
      "confusion matrix is:\n",
      " [[1858  201]\n",
      " [ 599 1470]]\n",
      "Hyper parameters: solver, penalty, C shape are: ['lbfgs', 'l2', 1]\n",
      "F1 score is: 0.8094141724226144\n",
      "confusion matrix is:\n",
      " [[1801  258]\n",
      " [ 487 1582]]\n"
     ]
    },
    {
     "name": "stderr",
     "output_type": "stream",
     "text": [
      "c:\\users\\stan\\appdata\\local\\programs\\python\\python37\\lib\\site-packages\\sklearn\\linear_model\\_logistic.py:940: ConvergenceWarning: lbfgs failed to converge (status=1):\n",
      "STOP: TOTAL NO. of ITERATIONS REACHED LIMIT.\n",
      "\n",
      "Increase the number of iterations (max_iter) or scale the data as shown in:\n",
      "    https://scikit-learn.org/stable/modules/preprocessing.html\n",
      "Please also refer to the documentation for alternative solver options:\n",
      "    https://scikit-learn.org/stable/modules/linear_model.html#logistic-regression\n",
      "  extra_warning_msg=_LOGISTIC_SOLVER_CONVERGENCE_MSG)\n",
      "c:\\users\\stan\\appdata\\local\\programs\\python\\python37\\lib\\site-packages\\sklearn\\linear_model\\_logistic.py:940: ConvergenceWarning: lbfgs failed to converge (status=1):\n",
      "STOP: TOTAL NO. of ITERATIONS REACHED LIMIT.\n",
      "\n",
      "Increase the number of iterations (max_iter) or scale the data as shown in:\n",
      "    https://scikit-learn.org/stable/modules/preprocessing.html\n",
      "Please also refer to the documentation for alternative solver options:\n",
      "    https://scikit-learn.org/stable/modules/linear_model.html#logistic-regression\n",
      "  extra_warning_msg=_LOGISTIC_SOLVER_CONVERGENCE_MSG)\n",
      "c:\\users\\stan\\appdata\\local\\programs\\python\\python37\\lib\\site-packages\\sklearn\\linear_model\\_logistic.py:940: ConvergenceWarning: lbfgs failed to converge (status=1):\n",
      "STOP: TOTAL NO. of ITERATIONS REACHED LIMIT.\n",
      "\n",
      "Increase the number of iterations (max_iter) or scale the data as shown in:\n",
      "    https://scikit-learn.org/stable/modules/preprocessing.html\n",
      "Please also refer to the documentation for alternative solver options:\n",
      "    https://scikit-learn.org/stable/modules/linear_model.html#logistic-regression\n",
      "  extra_warning_msg=_LOGISTIC_SOLVER_CONVERGENCE_MSG)\n"
     ]
    },
    {
     "name": "stdout",
     "output_type": "stream",
     "text": [
      "Hyper parameters: solver, penalty, C shape are: ['lbfgs', 'l2', 10]\n",
      "F1 score is: 0.8117706747843734\n",
      "confusion matrix is:\n",
      " [[1786  273]\n",
      " [ 469 1600]]\n"
     ]
    },
    {
     "name": "stderr",
     "output_type": "stream",
     "text": [
      "c:\\users\\stan\\appdata\\local\\programs\\python\\python37\\lib\\site-packages\\sklearn\\linear_model\\_logistic.py:940: ConvergenceWarning: lbfgs failed to converge (status=1):\n",
      "STOP: TOTAL NO. of ITERATIONS REACHED LIMIT.\n",
      "\n",
      "Increase the number of iterations (max_iter) or scale the data as shown in:\n",
      "    https://scikit-learn.org/stable/modules/preprocessing.html\n",
      "Please also refer to the documentation for alternative solver options:\n",
      "    https://scikit-learn.org/stable/modules/linear_model.html#logistic-regression\n",
      "  extra_warning_msg=_LOGISTIC_SOLVER_CONVERGENCE_MSG)\n",
      "c:\\users\\stan\\appdata\\local\\programs\\python\\python37\\lib\\site-packages\\sklearn\\linear_model\\_logistic.py:940: ConvergenceWarning: lbfgs failed to converge (status=1):\n",
      "STOP: TOTAL NO. of ITERATIONS REACHED LIMIT.\n",
      "\n",
      "Increase the number of iterations (max_iter) or scale the data as shown in:\n",
      "    https://scikit-learn.org/stable/modules/preprocessing.html\n",
      "Please also refer to the documentation for alternative solver options:\n",
      "    https://scikit-learn.org/stable/modules/linear_model.html#logistic-regression\n",
      "  extra_warning_msg=_LOGISTIC_SOLVER_CONVERGENCE_MSG)\n",
      "c:\\users\\stan\\appdata\\local\\programs\\python\\python37\\lib\\site-packages\\sklearn\\linear_model\\_logistic.py:940: ConvergenceWarning: lbfgs failed to converge (status=1):\n",
      "STOP: TOTAL NO. of ITERATIONS REACHED LIMIT.\n",
      "\n",
      "Increase the number of iterations (max_iter) or scale the data as shown in:\n",
      "    https://scikit-learn.org/stable/modules/preprocessing.html\n",
      "Please also refer to the documentation for alternative solver options:\n",
      "    https://scikit-learn.org/stable/modules/linear_model.html#logistic-regression\n",
      "  extra_warning_msg=_LOGISTIC_SOLVER_CONVERGENCE_MSG)\n",
      "c:\\users\\stan\\appdata\\local\\programs\\python\\python37\\lib\\site-packages\\sklearn\\linear_model\\_logistic.py:940: ConvergenceWarning: lbfgs failed to converge (status=1):\n",
      "STOP: TOTAL NO. of ITERATIONS REACHED LIMIT.\n",
      "\n",
      "Increase the number of iterations (max_iter) or scale the data as shown in:\n",
      "    https://scikit-learn.org/stable/modules/preprocessing.html\n",
      "Please also refer to the documentation for alternative solver options:\n",
      "    https://scikit-learn.org/stable/modules/linear_model.html#logistic-regression\n",
      "  extra_warning_msg=_LOGISTIC_SOLVER_CONVERGENCE_MSG)\n"
     ]
    },
    {
     "name": "stdout",
     "output_type": "stream",
     "text": [
      "Hyper parameters: solver, penalty, C shape are: ['lbfgs', 'l2', 100]\n",
      "F1 score is: 0.8131645569620253\n",
      "confusion matrix is:\n",
      " [[1784  275]\n",
      " [ 463 1606]]\n",
      "Hyper parameters: solver, penalty, C shape are: ['liblinear', 'l2', 0.0001]\n",
      "F1 score is: 0.7015205877327866\n",
      "confusion matrix is:\n",
      " [[ 328 1731]\n",
      " [  16 2053]]\n",
      "Hyper parameters: solver, penalty, C shape are: ['liblinear', 'l2', 0.001]\n",
      "F1 score is: 0.7251270878721858\n",
      "confusion matrix is:\n",
      " [[ 617 1442]\n",
      " [  72 1997]]\n",
      "Hyper parameters: solver, penalty, C shape are: ['liblinear', 'l2', 0.01]\n",
      "F1 score is: 0.7871506920867067\n",
      "confusion matrix is:\n",
      " [[1806  253]\n",
      " [ 562 1507]]\n",
      "Hyper parameters: solver, penalty, C shape are: ['liblinear', 'l2', 0.1]\n",
      "F1 score is: 0.7959830866807611\n",
      "confusion matrix is:\n",
      " [[1850  209]\n",
      " [ 563 1506]]\n",
      "Hyper parameters: solver, penalty, C shape are: ['liblinear', 'l2', 1]\n",
      "F1 score is: 0.8091095189355169\n",
      "confusion matrix is:\n",
      " [[1801  258]\n",
      " [ 488 1581]]\n",
      "Hyper parameters: solver, penalty, C shape are: ['liblinear', 'l2', 10]\n",
      "F1 score is: 0.8110575703778848\n",
      "confusion matrix is:\n",
      " [[1784  275]\n",
      " [ 470 1599]]\n",
      "Hyper parameters: solver, penalty, C shape are: ['liblinear', 'l2', 100]\n",
      "F1 score is: 0.8131645569620253\n",
      "confusion matrix is:\n",
      " [[1784  275]\n",
      " [ 463 1606]]\n",
      "Hyper parameters: solver, penalty, C shape are: ['sag', 'l2', 0.0001]\n",
      "F1 score is: 0.70434183321847\n",
      "confusion matrix is:\n",
      " [[ 368 1691]\n",
      " [  25 2044]]\n",
      "Hyper parameters: solver, penalty, C shape are: ['sag', 'l2', 0.001]\n",
      "F1 score is: 0.7698519515477793\n",
      "confusion matrix is:\n",
      " [[1843  216]\n",
      " [ 639 1430]]\n",
      "Hyper parameters: solver, penalty, C shape are: ['sag', 'l2', 0.01]\n",
      "F1 score is: 0.7650635710337204\n",
      "confusion matrix is:\n",
      " [[1894  165]\n",
      " [ 685 1384]]\n",
      "Hyper parameters: solver, penalty, C shape are: ['sag', 'l2', 0.1]\n",
      "F1 score is: 0.7864207431168136\n",
      "confusion matrix is:\n",
      " [[1858  201]\n",
      " [ 598 1471]]\n",
      "Hyper parameters: solver, penalty, C shape are: ['sag', 'l2', 1]\n",
      "F1 score is: 0.8094141724226144\n",
      "confusion matrix is:\n",
      " [[1801  258]\n",
      " [ 487 1582]]\n",
      "Hyper parameters: solver, penalty, C shape are: ['sag', 'l2', 10]\n",
      "F1 score is: 0.8117706747843734\n",
      "confusion matrix is:\n",
      " [[1786  273]\n",
      " [ 469 1600]]\n"
     ]
    },
    {
     "name": "stderr",
     "output_type": "stream",
     "text": [
      "c:\\users\\stan\\appdata\\local\\programs\\python\\python37\\lib\\site-packages\\sklearn\\linear_model\\_sag.py:330: ConvergenceWarning: The max_iter was reached which means the coef_ did not converge\n",
      "  \"the coef_ did not converge\", ConvergenceWarning)\n",
      "c:\\users\\stan\\appdata\\local\\programs\\python\\python37\\lib\\site-packages\\sklearn\\linear_model\\_sag.py:330: ConvergenceWarning: The max_iter was reached which means the coef_ did not converge\n",
      "  \"the coef_ did not converge\", ConvergenceWarning)\n",
      "c:\\users\\stan\\appdata\\local\\programs\\python\\python37\\lib\\site-packages\\sklearn\\linear_model\\_sag.py:330: ConvergenceWarning: The max_iter was reached which means the coef_ did not converge\n",
      "  \"the coef_ did not converge\", ConvergenceWarning)\n",
      "c:\\users\\stan\\appdata\\local\\programs\\python\\python37\\lib\\site-packages\\sklearn\\linear_model\\_sag.py:330: ConvergenceWarning: The max_iter was reached which means the coef_ did not converge\n",
      "  \"the coef_ did not converge\", ConvergenceWarning)\n",
      "c:\\users\\stan\\appdata\\local\\programs\\python\\python37\\lib\\site-packages\\sklearn\\linear_model\\_sag.py:330: ConvergenceWarning: The max_iter was reached which means the coef_ did not converge\n",
      "  \"the coef_ did not converge\", ConvergenceWarning)\n"
     ]
    },
    {
     "name": "stdout",
     "output_type": "stream",
     "text": [
      "Hyper parameters: solver, penalty, C shape are: ['sag', 'l2', 100]\n",
      "F1 score is: 0.8134649455833965\n",
      "confusion matrix is:\n",
      " [[1784  275]\n",
      " [ 462 1607]]\n",
      "Hyper parameters: solver, penalty, C shape are: ['saga', 'l2', 0.0001]\n",
      "F1 score is: 0.7051304197616168\n",
      "confusion matrix is:\n",
      " [[ 380 1679]\n",
      " [  28 2041]]\n",
      "Hyper parameters: solver, penalty, C shape are: ['saga', 'l2', 0.001]\n",
      "F1 score is: 0.7695207323640281\n",
      "confusion matrix is:\n",
      " [[1843  216]\n",
      " [ 640 1429]]\n",
      "Hyper parameters: solver, penalty, C shape are: ['saga', 'l2', 0.01]\n",
      "F1 score is: 0.7654048079579995\n",
      "confusion matrix is:\n",
      " [[1894  165]\n",
      " [ 684 1385]]\n",
      "Hyper parameters: solver, penalty, C shape are: ['saga', 'l2', 0.1]\n",
      "F1 score is: 0.786096256684492\n",
      "confusion matrix is:\n",
      " [[1858  201]\n",
      " [ 599 1470]]\n",
      "Hyper parameters: solver, penalty, C shape are: ['saga', 'l2', 1]\n",
      "F1 score is: 0.8094141724226144\n",
      "confusion matrix is:\n",
      " [[1801  258]\n",
      " [ 487 1582]]\n"
     ]
    },
    {
     "name": "stderr",
     "output_type": "stream",
     "text": [
      "c:\\users\\stan\\appdata\\local\\programs\\python\\python37\\lib\\site-packages\\sklearn\\linear_model\\_sag.py:330: ConvergenceWarning: The max_iter was reached which means the coef_ did not converge\n",
      "  \"the coef_ did not converge\", ConvergenceWarning)\n",
      "c:\\users\\stan\\appdata\\local\\programs\\python\\python37\\lib\\site-packages\\sklearn\\linear_model\\_sag.py:330: ConvergenceWarning: The max_iter was reached which means the coef_ did not converge\n",
      "  \"the coef_ did not converge\", ConvergenceWarning)\n",
      "c:\\users\\stan\\appdata\\local\\programs\\python\\python37\\lib\\site-packages\\sklearn\\linear_model\\_sag.py:330: ConvergenceWarning: The max_iter was reached which means the coef_ did not converge\n",
      "  \"the coef_ did not converge\", ConvergenceWarning)\n",
      "c:\\users\\stan\\appdata\\local\\programs\\python\\python37\\lib\\site-packages\\sklearn\\linear_model\\_sag.py:330: ConvergenceWarning: The max_iter was reached which means the coef_ did not converge\n",
      "  \"the coef_ did not converge\", ConvergenceWarning)\n"
     ]
    },
    {
     "name": "stdout",
     "output_type": "stream",
     "text": [
      "Hyper parameters: solver, penalty, C shape are: ['saga', 'l2', 10]\n",
      "F1 score is: 0.8117706747843734\n",
      "confusion matrix is:\n",
      " [[1786  273]\n",
      " [ 469 1600]]\n"
     ]
    },
    {
     "name": "stderr",
     "output_type": "stream",
     "text": [
      "c:\\users\\stan\\appdata\\local\\programs\\python\\python37\\lib\\site-packages\\sklearn\\linear_model\\_sag.py:330: ConvergenceWarning: The max_iter was reached which means the coef_ did not converge\n",
      "  \"the coef_ did not converge\", ConvergenceWarning)\n",
      "c:\\users\\stan\\appdata\\local\\programs\\python\\python37\\lib\\site-packages\\sklearn\\linear_model\\_sag.py:330: ConvergenceWarning: The max_iter was reached which means the coef_ did not converge\n",
      "  \"the coef_ did not converge\", ConvergenceWarning)\n",
      "c:\\users\\stan\\appdata\\local\\programs\\python\\python37\\lib\\site-packages\\sklearn\\linear_model\\_sag.py:330: ConvergenceWarning: The max_iter was reached which means the coef_ did not converge\n",
      "  \"the coef_ did not converge\", ConvergenceWarning)\n",
      "c:\\users\\stan\\appdata\\local\\programs\\python\\python37\\lib\\site-packages\\sklearn\\linear_model\\_sag.py:330: ConvergenceWarning: The max_iter was reached which means the coef_ did not converge\n",
      "  \"the coef_ did not converge\", ConvergenceWarning)\n"
     ]
    },
    {
     "name": "stdout",
     "output_type": "stream",
     "text": [
      "Hyper parameters: solver, penalty, C shape are: ['saga', 'l2', 100]\n",
      "F1 score is: 0.8131645569620253\n",
      "confusion matrix is:\n",
      " [[1784  275]\n",
      " [ 463 1606]]\n"
     ]
    },
    {
     "name": "stderr",
     "output_type": "stream",
     "text": [
      "c:\\users\\stan\\appdata\\local\\programs\\python\\python37\\lib\\site-packages\\sklearn\\linear_model\\_sag.py:330: ConvergenceWarning: The max_iter was reached which means the coef_ did not converge\n",
      "  \"the coef_ did not converge\", ConvergenceWarning)\n"
     ]
    }
   ],
   "source": [
    "from sklearn.linear_model import LogisticRegression\n",
    "from sklearn.model_selection import cross_val_predict\n",
    "from sklearn.metrics import confusion_matrix, f1_score\n",
    "import numpy as np\n",
    "\n",
    "penalty = ['l1','l2']\n",
    "C = [0.0001, 0.001, 0.01, 0.1, 1, 10, 100]#, 1000]           \n",
    "solver = ['newton-cg', 'lbfgs', 'liblinear', 'sag', 'saga']\n",
    "\n",
    "Hyper_Params = []\n",
    "F1_Scores = []\n",
    "\n",
    "best_score_lgr = 0\n",
    "best_s_lgr = str\n",
    "best_p_lgr = str\n",
    "best_c_lgr = 0\n",
    "\n",
    "'''solver = lbfgs'''\n",
    "\n",
    "for s in range(len(solver)):\n",
    "    for p in range(len(penalty)):\n",
    "        for c in range(len(C)):\n",
    "\n",
    "            if solver[s] == 'newton-cg' or 'lbfgs':\n",
    "                \n",
    "                '''newton-cg and lbfgs do not take penalty l2 '''\n",
    "                \n",
    "                if penalty[p] != 'l1':                          \n",
    "                    lgr = LogisticRegression(penalty = penalty[p], C= C[c], solver = solver[s], max_iter = 100)\n",
    "                    y_hat = cross_val_predict(lgr, x_train, y_train, cv = kFolds)\n",
    "                    F1_score = f1_score(y_train, y_hat)\n",
    "                    c_matrix = confusion_matrix(y_train, y_hat)\n",
    "                    Hyper_Params.append([solver[s], penalty[p], C[c]])\n",
    "                    F1_Scores.append(F1_score)\n",
    "                    print('Hyper parameters: solver, penalty, C shape are:',[solver[s], penalty[p], C[c]])\n",
    "                    print('F1 score is:',F1_score)\n",
    "                    print('confusion matrix is:\\n',c_matrix)\n",
    "\n",
    "                    if F1_score >= best_score_lgr:                ## storing results for best validation score\n",
    "                        best_score_lgr = F1_score\n",
    "                        best_s_lgr = solver[s]\n",
    "                        best_p_lgr = penalty[p]\n",
    "                        best_c_lgr = C[c]\n",
    "                        \n",
    "            else:\n",
    "                \n",
    "                lgr = LogisticRegression(penalty = penalty[p], C= C[c], solver = solver[s], max_iter = 100)\n",
    "                y_hat = cross_val_predict(lgr, x_train, y_train, cv = kFolds)\n",
    "                F1_score = f1_score(y_train, y_hat)\n",
    "                c_matrix = confusion_matrix(y_train, y_hat)\n",
    "                Hyper_Params.append([solver[s], penalty[p], C[c]])\n",
    "                F1_Scores.append(F1_score)\n",
    "                \n",
    "                print('Hyper parameters: solver, penalty, C shape are:',[solver[s], penalty[p], C[c]])\n",
    "                print('F1 score is:',F1_score)\n",
    "                print('confusion matrix is:\\n',c_matrix)\n",
    "                \n",
    "                if F1_score >= best_score_lgr:\n",
    "                    best_score_lgr = F1_score\n",
    "                    best_s_lgr = solver[s]\n",
    "                    best_p_lgr = penalty[p]\n",
    "                    best_c_lgr = C[c]"
   ]
  },
  {
   "cell_type": "markdown",
   "metadata": {},
   "source": [
    "### Best Logistic Regression Model"
   ]
  },
  {
   "cell_type": "code",
   "execution_count": 94,
   "metadata": {
    "scrolled": true
   },
   "outputs": [
    {
     "name": "stdout",
     "output_type": "stream",
     "text": [
      "LGR Score: 0.8191489361702128\n"
     ]
    },
    {
     "data": {
      "image/png": "[encoded data removed]",
      "text/plain": [
       "<Figure size 432x288 with 2 Axes>"
      ]
     },
     "metadata": {
      "needs_background": "light"
     },
     "output_type": "display_data"
    }
   ],
   "source": [
    "best_solver_lgr = LogisticRegression(penalty = best_p_lgr, C= best_c_lgr, solver = best_s_lgr, max_iter = 5000)\n",
    "best_solver_lgr.fit(x_train, y_train)\n",
    "yhat_train_lgr = best_solver_lgr.predict(x_train)\n",
    "train_score_lgr = f1_score(y_train, yhat_train_lgr)\n",
    "models['Logistic Regression'] = best_solver_lgr, train_score_lgr\n",
    "import matplotlib.pyplot as plt\n",
    "plt.subplot(2,1,1)\n",
    "plt.scatter(x_train['Average Income'], y_train, color = 'b', s=10)\n",
    "plt.ylabel('Y: Average Income')\n",
    "plt.subplot(2,1,2)\n",
    "plt.scatter(x_train['Average Income'], yhat_train_lgr, color = 'g', s=10)\n",
    "plt.ylabel('Yhat: Hypothesis')\n",
    "print('LGR Score:', train_score_lgr)"
   ]
  },
  {
   "cell_type": "markdown",
   "metadata": {},
   "source": [
    "### Support Vector Machine"
   ]
  },
  {
   "cell_type": "code",
   "execution_count": 95,
   "metadata": {
    "scrolled": true
   },
   "outputs": [
    {
     "name": "stdout",
     "output_type": "stream",
     "text": [
      "Hyper parameters: kernel & decision function shape are: ['rbf', 'ovr']\n",
      "F1 score is: 0.8465185924631894\n",
      "confusion matrix is:\n",
      " [[1817  242]\n",
      " [ 373 1696]]\n",
      "Hyper parameters: kernel & decision function shape are: ['sigmoid', 'ovr']\n",
      "F1 score is: 0.715970515970516\n",
      "confusion matrix is:\n",
      " [[1515  544]\n",
      " [ 612 1457]]\n"
     ]
    }
   ],
   "source": [
    "from sklearn import svm\n",
    "from sklearn.model_selection import cross_validate, cross_val_score, cross_val_predict\n",
    "from sklearn.metrics import confusion_matrix, classification_report\n",
    "from sklearn.metrics import f1_score\n",
    "import numpy as np\n",
    "\n",
    "kernels = ['rbf','sigmoid']#,'linear' ,'polynomial'] ## linear and polynomial have very high runtime\n",
    "decision_function_shape = ['ovr']#,'ovo']             ## one vs one has very high runtime\n",
    "kFolds = 5\n",
    "\n",
    "hyper_params = []\n",
    "F1_scores = []\n",
    "\n",
    "scores = np.empty((len(kernels), len(decision_function_shape)))\n",
    "best_score_svm = 0\n",
    "best_c_matrix = None\n",
    "best_k_svm = str\n",
    "best_dfs_svm = str\n",
    "best_val_score_svm = pd.DataFrame()\n",
    "\n",
    "for k in range(len(kernels)):\n",
    "    for dfs in range(len(decision_function_shape)):\n",
    "        svc = svm.SVC(decision_function_shape = decision_function_shape[dfs], kernel = kernels[k])\n",
    "        y_hat = cross_val_predict(svc, x_train, y_train, cv = kFolds)\n",
    "        hyper_params.append([kernels[k], decision_function_shape[dfs]])\n",
    "        c_matrix = confusion_matrix(y_train, y_hat)\n",
    "        F1_score = f1_score(y_train, y_hat)\n",
    "        F1_scores.append(F1_score)\n",
    "        print('Hyper parameters: kernel & decision function shape are:',[kernels[k], decision_function_shape[dfs]])\n",
    "        print('F1 score is:',F1_score)\n",
    "        print('confusion matrix is:\\n',c_matrix)\n",
    "        \n",
    "        if F1_score >= best_score_svm:\n",
    "            best_score_svm = F1_score\n",
    "            best_c_matrix = c_matrix\n",
    "            best_k_svm = kernels[k]\n",
    "            best_dfs_svm = decision_function_shape[dfs]"
   ]
  },
  {
   "cell_type": "markdown",
   "metadata": {},
   "source": [
    "### Best Support Vector Machine Model"
   ]
  },
  {
   "cell_type": "code",
   "execution_count": 96,
   "metadata": {},
   "outputs": [
    {
     "name": "stdout",
     "output_type": "stream",
     "text": [
      "SVM Score: 0.8623170429173903\n"
     ]
    },
    {
     "data": {
      "image/png": "[encoded data removed]",
      "text/plain": [
       "<Figure size 432x288 with 2 Axes>"
      ]
     },
     "metadata": {
      "needs_background": "light"
     },
     "output_type": "display_data"
    }
   ],
   "source": [
    "best_solver_svm = svm.SVC(decision_function_shape = best_dfs_svm, kernel = best_k_svm)\n",
    "best_solver_svm.fit(x_train, y_train)\n",
    "yhat_train_svm = best_solver_svm.predict(x_train)\n",
    "train_score_svm = f1_score(y_train, yhat_train_svm)\n",
    "models['Support Vector Machine'] = best_solver_svm, train_score_svm\n",
    "import matplotlib.pyplot as plt\n",
    "plt.subplot(2,1,1)\n",
    "plt.scatter(x_train['Distance'], y_train, color = 'b', s=10)\n",
    "plt.ylabel('Y: Distance')\n",
    "plt.subplot(2,1,2)\n",
    "plt.scatter(x_train['Distance'], yhat_train_svm, color = 'g', s=10)\n",
    "plt.ylabel('Yhat: Hypothesis')\n",
    "print('SVM Score:', train_score_svm)"
   ]
  },
  {
   "cell_type": "markdown",
   "metadata": {},
   "source": [
    "### Decision Tree"
   ]
  },
  {
   "cell_type": "code",
   "execution_count": 97,
   "metadata": {
    "scrolled": true
   },
   "outputs": [
    {
     "name": "stdout",
     "output_type": "stream",
     "text": [
      "Hyper parameters: max depth and min_sample_split are: [4, 2]\n",
      "F1 score is: 0.9081840852414419\n",
      "Confusion matrix is:\n",
      " [[1720   66]\n",
      " [ 339 2003]]\n",
      "Hyper parameters: max depth and min_sample_split are: [4, 3]\n",
      "F1 score is: 0.908390022675737\n",
      "Confusion matrix is:\n",
      " [[1721   66]\n",
      " [ 338 2003]]\n",
      "Hyper parameters: max depth and min_sample_split are: [4, 4]\n",
      "F1 score is: 0.9078947368421053\n",
      "Confusion matrix is:\n",
      " [[1721   68]\n",
      " [ 338 2001]]\n",
      "Hyper parameters: max depth and min_sample_split are: [4, 5]\n",
      "F1 score is: 0.908390022675737\n",
      "Confusion matrix is:\n",
      " [[1721   66]\n",
      " [ 338 2003]]\n",
      "Hyper parameters: max depth and min_sample_split are: [5, 2]\n",
      "F1 score is: 0.9055734684477199\n",
      "Confusion matrix is:\n",
      " [[1752  103]\n",
      " [ 307 1966]]\n",
      "Hyper parameters: max depth and min_sample_split are: [5, 3]\n",
      "F1 score is: 0.9037618278329103\n",
      "Confusion matrix is:\n",
      " [[1753  111]\n",
      " [ 306 1958]]\n",
      "Hyper parameters: max depth and min_sample_split are: [5, 4]\n",
      "F1 score is: 0.9055299539170507\n",
      "Confusion matrix is:\n",
      " [[1753  104]\n",
      " [ 306 1965]]\n",
      "Hyper parameters: max depth and min_sample_split are: [5, 5]\n",
      "F1 score is: 0.9052777137589306\n",
      "Confusion matrix is:\n",
      " [[1753  105]\n",
      " [ 306 1964]]\n",
      "Hyper parameters: max depth and min_sample_split are: [6, 2]\n",
      "F1 score is: 0.9084982537834692\n",
      "Confusion matrix is:\n",
      " [[1784  118]\n",
      " [ 275 1951]]\n",
      "Hyper parameters: max depth and min_sample_split are: [6, 3]\n",
      "F1 score is: 0.9091755938518864\n",
      "Confusion matrix is:\n",
      " [[1786  117]\n",
      " [ 273 1952]]\n",
      "Hyper parameters: max depth and min_sample_split are: [6, 4]\n",
      "F1 score is: 0.9094295692665891\n",
      "Confusion matrix is:\n",
      " [[1786  116]\n",
      " [ 273 1953]]\n",
      "Hyper parameters: max depth and min_sample_split are: [6, 5]\n",
      "F1 score is: 0.9089215001164687\n",
      "Confusion matrix is:\n",
      " [[1786  118]\n",
      " [ 273 1951]]\n"
     ]
    }
   ],
   "source": [
    "from sklearn import tree\n",
    "from sklearn.model_selection import cross_val_predict\n",
    "from sklearn.metrics import confusion_matrix, f1_score\n",
    "import numpy as np\n",
    "\n",
    "max_depth = [4,5,6]\n",
    "min_sample_split = [2,3,4,5]\n",
    "\n",
    "hyper_params = []\n",
    "F1_scores = []\n",
    "\n",
    "best_score_dt = 0\n",
    "best_depth_dt = int\n",
    "best_sample_split_dt = int\n",
    "best_val_score_dt = pd.DataFrame()\n",
    "\n",
    "for d in range(len(max_depth)):\n",
    "    for s in range(len(min_sample_split)): \n",
    "        dt = tree.DecisionTreeClassifier(criterion = 'gini', max_depth = max_depth[d], min_samples_split = min_sample_split[s])\n",
    "        y_hat = cross_val_predict(dt, x_train, y_train, cv = kFolds)\n",
    "        hyper_params.append([max_depth[d], min_sample_split[s]])\n",
    "        F1_score = f1_score(y_hat, y_train)\n",
    "        F1_scores.append(F1_score)\n",
    "        c_matrix = confusion_matrix(y_hat, y_train)\n",
    "        \n",
    "        print('Hyper parameters: max depth and min_sample_split are:',[max_depth[d], min_sample_split[s]])\n",
    "        print('F1 score is:',F1_score)\n",
    "        print('Confusion matrix is:\\n',c_matrix)\n",
    "        \n",
    "        if F1_score >= best_score_dt:\n",
    "            best_score_dt = F1_score\n",
    "            best_depth_dt = max_depth[d]\n",
    "            best_sample_split_dt = min_sample_split[s]"
   ]
  },
  {
   "cell_type": "markdown",
   "metadata": {},
   "source": [
    "### Best Decision Tree Model"
   ]
  },
  {
   "cell_type": "code",
   "execution_count": 98,
   "metadata": {},
   "outputs": [
    {
     "name": "stdout",
     "output_type": "stream",
     "text": [
      "DT Score: 0.9266247379454927\n"
     ]
    },
    {
     "data": {
      "image/png": "[encoded data removed]",
      "text/plain": [
       "<Figure size 432x288 with 2 Axes>"
      ]
     },
     "metadata": {
      "needs_background": "light"
     },
     "output_type": "display_data"
    }
   ],
   "source": [
    "best_solver_dt = tree.DecisionTreeClassifier(criterion = 'gini', max_depth = best_depth_dt, min_samples_split = best_sample_split_dt)\n",
    "best_solver_dt.fit(x_train, y_train)\n",
    "yhat_train_dt = best_solver_dt.predict(x_train)\n",
    "train_score_dt = f1_score(y_train, yhat_train_dt)\n",
    "models['Decision Tree'] = best_solver_dt, train_score_dt\n",
    "import matplotlib.pyplot as plt\n",
    "plt.subplot(2,1,1)\n",
    "plt.scatter(x_train['HScrat'], y_train, color = 'b', s=10)\n",
    "plt.ylabel('Y: HScrat')\n",
    "plt.subplot(2,1,2)\n",
    "plt.scatter(x_train['HScrat'], yhat_train_dt, color = 'g', s=10)\n",
    "plt.ylabel('Yhat: Hypothesis')\n",
    "print('DT Score:', train_score_dt)"
   ]
  },
  {
   "cell_type": "markdown",
   "metadata": {},
   "source": [
    "### Plot Decision Tree"
   ]
  },
  {
   "cell_type": "code",
   "execution_count": 99,
   "metadata": {},
   "outputs": [
    {
     "data": {
      "image/png": "[encoded data removed]",
      "text/plain": [
       "<Figure size 432x288 with 1 Axes>"
      ]
     },
     "metadata": {
      "needs_background": "light"
     },
     "output_type": "display_data"
    }
   ],
   "source": [
    "from sklearn.tree import plot_tree\n",
    "plt_tree = plot_tree(best_solver_dt, max_depth = 2, label = 'root', fontsize = 10)"
   ]
  },
  {
   "cell_type": "markdown",
   "metadata": {},
   "source": [
    "### Random Forest Model"
   ]
  },
  {
   "cell_type": "code",
   "execution_count": 100,
   "metadata": {
    "scrolled": true
   },
   "outputs": [
    {
     "name": "stdout",
     "output_type": "stream",
     "text": [
      "Hyper parameters: n estimator, max depth are: [10, 4]\n",
      "F1 score is: 0.9020044543429844\n",
      "Confusion matrix is:\n",
      " [[1663  396]\n",
      " [  44 2025]]\n",
      "Hyper parameters: n estimator, max depth are: [10, 8]\n",
      "F1 score is: 0.9235757295044003\n",
      "Confusion matrix is:\n",
      " [[1804  255]\n",
      " [  75 1994]]\n",
      "Hyper parameters: n estimator, max depth are: [10, 10]\n",
      "F1 score is: 0.9303724265556327\n",
      "Confusion matrix is:\n",
      " [[1816  243]\n",
      " [  58 2011]]\n",
      "Hyper parameters: n estimator, max depth are: [50, 4]\n",
      "F1 score is: 0.9169853768278965\n",
      "Confusion matrix is:\n",
      " [[1721  338]\n",
      " [  31 2038]]\n",
      "Hyper parameters: n estimator, max depth are: [50, 8]\n",
      "F1 score is: 0.9270642201834862\n",
      "Confusion matrix is:\n",
      " [[1789  270]\n",
      " [  48 2021]]\n",
      "Hyper parameters: n estimator, max depth are: [50, 10]\n",
      "F1 score is: 0.9328099746017087\n",
      "Confusion matrix is:\n",
      " [[1817  242]\n",
      " [  49 2020]]\n",
      "Hyper parameters: n estimator, max depth are: [100, 4]\n",
      "F1 score is: 0.9181591475855815\n",
      "Confusion matrix is:\n",
      " [[1742  317]\n",
      " [  44 2025]]\n",
      "Hyper parameters: n estimator, max depth are: [100, 8]\n",
      "F1 score is: 0.9271644525881815\n",
      "Confusion matrix is:\n",
      " [[1786  273]\n",
      " [  45 2024]]\n",
      "Hyper parameters: n estimator, max depth are: [100, 10]\n",
      "F1 score is: 0.9336405529953918\n",
      "Confusion matrix is:\n",
      " [[1814  245]\n",
      " [  43 2026]]\n"
     ]
    }
   ],
   "source": [
    "from sklearn import ensemble\n",
    "from sklearn.model_selection import cross_val_predict\n",
    "from sklearn.metrics import confusion_matrix, f1_score\n",
    "import numpy as np\n",
    "\n",
    "max_depth = [4, 8 , 10]#, 12]                   ## max depth range\n",
    "n_estimators = [10, 50, 100]#, 150, 200]#, 500, 1000] ## high runtime   ## max number of trees\n",
    "\n",
    "F1_Scores = []\n",
    "Hyper_Params = []\n",
    "\n",
    "best_score_rf = 0\n",
    "best_depth_rf = int\n",
    "best_num_of_tree_rf = int\n",
    "\n",
    "for ntree in range(len(n_estimators)):\n",
    "    for d in range(len(max_depth)):\n",
    "        rf = ensemble.RandomForestClassifier(n_estimators = n_estimators[ntree], max_depth = max_depth[d])\n",
    "        y_hat = cross_val_predict(rf, x_train, y_train, cv = 5)\n",
    "        F1_score = f1_score(y_train, y_hat)\n",
    "        F1_scores.append(F1_score)\n",
    "        c_matrix = confusion_matrix(y_train, y_hat)\n",
    "        Hyper_Params.append([n_estimators[ntree], max_depth[d]])\n",
    "        print('Hyper parameters: n estimator, max depth are:',[n_estimators[ntree], max_depth[d]])\n",
    "        print('F1 score is:', F1_score)\n",
    "        print('Confusion matrix is:\\n', c_matrix)\n",
    "        \n",
    "        if F1_score >= best_score_rf:\n",
    "            best_score_rf = F1_score\n",
    "            best_depth_rf = max_depth[d]\n",
    "            best_num_of_tree_rf = n_estimators[ntree]"
   ]
  },
  {
   "cell_type": "markdown",
   "metadata": {},
   "source": [
    "### Best Random Forest Model"
   ]
  },
  {
   "cell_type": "code",
   "execution_count": 101,
   "metadata": {},
   "outputs": [
    {
     "name": "stdout",
     "output_type": "stream",
     "text": [
      "RF Score: 0.9618534987128482\n"
     ]
    },
    {
     "data": {
      "image/png": "[encoded data removed]",
      "text/plain": [
       "<Figure size 432x288 with 2 Axes>"
      ]
     },
     "metadata": {
      "needs_background": "light"
     },
     "output_type": "display_data"
    }
   ],
   "source": [
    "best_solver_rf = ensemble.RandomForestClassifier(n_estimators = best_num_of_tree_rf, max_depth = best_depth_rf)\n",
    "best_solver_rf.fit(x_train, y_train)\n",
    "yhat_train_rf = best_solver_rf.predict(x_train)\n",
    "train_score_rf = f1_score(y_train, yhat_train_rf)\n",
    "models['Random Forest'] = best_solver_rf, train_score_rf\n",
    "plt.subplot(2,1,1)\n",
    "plt.scatter(x_train['Tele Counseling Qualifying'], y_train, color = 'b', s=10)\n",
    "plt.ylabel('Y: TCQ')\n",
    "plt.subplot(2,1,2)\n",
    "plt.scatter(x_train['Tele Counseling Qualifying'], yhat_train_rf, color = 'g', s=10)\n",
    "plt.ylabel('Yhat: Hypothesis')\n",
    "print('RF Score:', train_score_rf)"
   ]
  },
  {
   "cell_type": "markdown",
   "metadata": {},
   "source": [
    "### Gradient Boosting Model"
   ]
  },
  {
   "cell_type": "code",
   "execution_count": 102,
   "metadata": {},
   "outputs": [
    {
     "name": "stdout",
     "output_type": "stream",
     "text": [
      "GB Score: 0.9536733738886289\n"
     ]
    },
    {
     "data": {
      "image/png": "[encoded data removed]",
      "text/plain": [
       "<Figure size 432x288 with 2 Axes>"
      ]
     },
     "metadata": {
      "needs_background": "light"
     },
     "output_type": "display_data"
    }
   ],
   "source": [
    "from sklearn.ensemble import GradientBoostingClassifier\n",
    "from sklearn.model_selection import cross_val_predict\n",
    "from sklearn.metrics import f1_score, confusion_matrix\n",
    "import numpy as np\n",
    "\n",
    "kFold = 5\n",
    "best_score_gb = 0\n",
    "\n",
    "gbc = GradientBoostingClassifier()\n",
    "y_hat = cross_val_predict(gbc, x_train, y_train, cv = kFold)\n",
    "F1_score = f1_score(y_train, y_hat)\n",
    "c_matrix = confusion_matrix(y_train, y_hat)\n",
    "best_solver_gb = gbc\n",
    "best_score_gb = F1_score\n",
    "\n",
    "best_solver_gb.fit(x_train, y_train)\n",
    "yhat_train_gb = best_solver_gb.predict(x_train)\n",
    "train_score_gb = f1_score(y_train, yhat_train_gb)\n",
    "models['Gradient Boosting'] = best_solver_gb, train_score_gb\n",
    "plt.subplot(2,1,1)\n",
    "plt.scatter(x_train['Self Initiated Contacts'], y_train, color = 'b',s=10)\n",
    "plt.ylabel('Y: SIC')\n",
    "plt.subplot(2,1,2)\n",
    "plt.scatter(x_train['Self Initiated Contacts'], yhat_train_gb, color = 'g',s=10)\n",
    "plt.ylabel('Yhat: Hypothesis')\n",
    "print('GB Score:', train_score_gb)"
   ]
  },
  {
   "cell_type": "markdown",
   "metadata": {},
   "source": [
    "### All Solvers"
   ]
  },
  {
   "cell_type": "code",
   "execution_count": 103,
   "metadata": {},
   "outputs": [
    {
     "data": {
      "image/png": "[encoded data removed]",
      "text/plain": [
       "<Figure size 432x288 with 1 Axes>"
      ]
     },
     "metadata": {
      "needs_background": "light"
     },
     "output_type": "display_data"
    }
   ],
   "source": [
    "import numpy as np\n",
    "import matplotlib.pyplot as plt\n",
    "from matplotlib import axes\n",
    "\n",
    "all_solvers = []\n",
    "train_scores = []\n",
    "model_names = []\n",
    "\n",
    "import matplotlib.pyplot as plt\n",
    "for key in models.keys():\n",
    "    model_names.append(key)\n",
    "    all_solvers.append(models[key][0])\n",
    "    train_scores.append(models[key][1])\n",
    "\n",
    "plt.barh(model_names, train_scores)\n",
    "plt.ylabel('Train Scores')\n",
    "for index, value in enumerate(train_scores):\n",
    "    plt.text(1.1, index, str(value))"
   ]
  },
  {
   "cell_type": "markdown",
   "metadata": {},
   "source": [
    "### Test scores and reports"
   ]
  },
  {
   "cell_type": "code",
   "execution_count": 104,
   "metadata": {},
   "outputs": [
    {
     "name": "stdout",
     "output_type": "stream",
     "text": [
      "Classification report for Logistic Regression\n",
      "Test Scores for Logistic Regression is: 0.8305785123966942\n",
      "              precision    recall  f1-score   support\n",
      "\n",
      "           0       0.81      0.89      0.85       521\n",
      "           1       0.88      0.79      0.83       511\n",
      "\n",
      "    accuracy                           0.84      1032\n",
      "   macro avg       0.85      0.84      0.84      1032\n",
      "weighted avg       0.84      0.84      0.84      1032\n",
      "\n",
      "Classification report for Support Vector Machine\n",
      "Test Scores for Support Vector Machine is: 0.863453815261044\n",
      "              precision    recall  f1-score   support\n",
      "\n",
      "           0       0.85      0.89      0.87       521\n",
      "           1       0.89      0.84      0.86       511\n",
      "\n",
      "    accuracy                           0.87      1032\n",
      "   macro avg       0.87      0.87      0.87      1032\n",
      "weighted avg       0.87      0.87      0.87      1032\n",
      "\n",
      "Classification report for Decision Tree\n",
      "Test Scores for Decision Tree is: 0.9161168708765315\n",
      "              precision    recall  f1-score   support\n",
      "\n",
      "           0       0.95      0.88      0.91       521\n",
      "           1       0.88      0.95      0.92       511\n",
      "\n",
      "    accuracy                           0.91      1032\n",
      "   macro avg       0.92      0.91      0.91      1032\n",
      "weighted avg       0.92      0.91      0.91      1032\n",
      "\n",
      "Classification report for Random Forest\n",
      "Test Scores for Random Forest is: 0.9377358490566037\n",
      "              precision    recall  f1-score   support\n",
      "\n",
      "           0       0.97      0.90      0.93       521\n",
      "           1       0.91      0.97      0.94       511\n",
      "\n",
      "    accuracy                           0.94      1032\n",
      "   macro avg       0.94      0.94      0.94      1032\n",
      "weighted avg       0.94      0.94      0.94      1032\n",
      "\n",
      "Classification report for Gradient Boosting\n",
      "Test Scores for Gradient Boosting is: 0.9467680608365019\n",
      "              precision    recall  f1-score   support\n",
      "\n",
      "           0       0.97      0.92      0.94       521\n",
      "           1       0.92      0.97      0.95       511\n",
      "\n",
      "    accuracy                           0.95      1032\n",
      "   macro avg       0.95      0.95      0.95      1032\n",
      "weighted avg       0.95      0.95      0.95      1032\n",
      "\n"
     ]
    },
    {
     "data": {
      "image/png": "[encoded data removed]",
      "text/plain": [
       "<Figure size 432x288 with 1 Axes>"
      ]
     },
     "metadata": {
      "needs_background": "light"
     },
     "output_type": "display_data"
    }
   ],
   "source": [
    "test_scores = []\n",
    "yhat_test = []\n",
    "for i in range(len(all_solvers)):\n",
    "    yhat_test.append(all_solvers[i].predict(x_test))\n",
    "    test_scores.append(f1_score(y_test, all_solvers[i].predict(x_test)))\n",
    "    print('Classification report for {}'.format(model_names[i]))\n",
    "    print('Test Scores for {} is:'.format(model_names[i]),f1_score(y_test, all_solvers[i].predict(x_test)))\n",
    "    print(classification_report(y_test, all_solvers[i].predict(x_test)))\n",
    "plt.barh(model_names, test_scores)\n",
    "plt.ylabel('Test Scores')\n",
    "for index, value in enumerate(test_scores):\n",
    "    plt.text(1.1, index, str(value))"
   ]
  },
  {
   "cell_type": "markdown",
   "metadata": {},
   "source": [
    "### Best Model and Solver"
   ]
  },
  {
   "cell_type": "code",
   "execution_count": 105,
   "metadata": {},
   "outputs": [
    {
     "name": "stdout",
     "output_type": "stream",
     "text": [
      "Best Model is: Gradient Boosting\n",
      "Test score for Gradient Boosting is: 0.9467680608365019\n",
      "Solver for Gradient Boosting is: GradientBoostingClassifier(ccp_alpha=0.0, criterion='friedman_mse', init=None,\n",
      "                           learning_rate=0.1, loss='deviance', max_depth=3,\n",
      "                           max_features=None, max_leaf_nodes=None,\n",
      "                           min_impurity_decrease=0.0, min_impurity_split=None,\n",
      "                           min_samples_leaf=1, min_samples_split=2,\n",
      "                           min_weight_fraction_leaf=0.0, n_estimators=100,\n",
      "                           n_iter_no_change=None, presort='deprecated',\n",
      "                           random_state=None, subsample=1.0, tol=0.0001,\n",
      "                           validation_fraction=0.1, verbose=0,\n",
      "                           warm_start=False)\n"
     ]
    }
   ],
   "source": [
    "best_test_score = np.max(test_scores)\n",
    "pos_best = np.argmax(test_scores)\n",
    "print('Best Model is:',model_names[pos_best])\n",
    "print('Test score for {} is:'.format(model_names[pos_best]),test_scores[pos_best])\n",
    "print('Solver for {} is:'.format(model_names[pos_best]),all_solvers[pos_best])   "
   ]
  },
  {
   "cell_type": "markdown",
   "metadata": {},
   "source": [
    "### Confusion Metrices"
   ]
  },
  {
   "cell_type": "code",
   "execution_count": 106,
   "metadata": {},
   "outputs": [
    {
     "name": "stdout",
     "output_type": "stream",
     "text": [
      "Logistic Regression\n",
      "Support Vector Machine\n",
      "Decision Tree\n",
      "Random Forest\n",
      "Gradient Boosting\n"
     ]
    },
    {
     "data": {
      "image/png": "[encoded data removed]",
      "text/plain": [
       "<Figure size 432x288 with 2 Axes>"
      ]
     },
     "metadata": {
      "needs_background": "light"
     },
     "output_type": "display_data"
    },
    {
     "data": {
      "image/png": "[encoded data removed]",
      "text/plain": [
       "<Figure size 432x288 with 2 Axes>"
      ]
     },
     "metadata": {
      "needs_background": "light"
     },
     "output_type": "display_data"
    },
    {
     "data": {
      "image/png": "[encoded data removed]",
      "text/plain": [
       "<Figure size 432x288 with 2 Axes>"
      ]
     },
     "metadata": {
      "needs_background": "light"
     },
     "output_type": "display_data"
    },
    {
     "data": {
      "image/png": "[encoded data removed]",
      "text/plain": [
       "<Figure size 432x288 with 2 Axes>"
      ]
     },
     "metadata": {
      "needs_background": "light"
     },
     "output_type": "display_data"
    },
    {
     "data": {
      "image/png": "[encoded data removed]",
      "text/plain": [
       "<Figure size 432x288 with 2 Axes>"
      ]
     },
     "metadata": {
      "needs_background": "light"
     },
     "output_type": "display_data"
    }
   ],
   "source": [
    "from sklearn.metrics import plot_confusion_matrix\n",
    "label_names = ['Not Enroll', 'Enroll']\n",
    "for i in range(len(all_solvers)):\n",
    "    print(model_names[i])\n",
    "    plot_confusion_matrix(all_solvers[i], x_test, y_test, display_labels=label_names)"
   ]
  },
  {
   "cell_type": "markdown",
   "metadata": {},
   "source": [
    "### KFold for best model"
   ]
  },
  {
   "cell_type": "code",
   "execution_count": 107,
   "metadata": {},
   "outputs": [],
   "source": [
    "from sklearn.model_selection import StratifiedKFold\n",
    "from sklearn.ensemble import GradientBoostingClassifier\n",
    "from sklearn.metrics import f1_score\n",
    "\n",
    "\n",
    "SCORES = []\n",
    "Solver = None\n",
    "BestScore = 0\n",
    "BestKFold = 0\n",
    "\n",
    "for i in range(8):    \n",
    "    skf = StratifiedKFold(n_splits = i+2)\n",
    "    for train_index, test_index in skf.split(x_train, y_train):\n",
    "        X_train, X_test = x_train.iloc[train_index], x_train.iloc[test_index]\n",
    "        Y_train, Y_test = y_train.iloc[train_index], y_train.iloc[test_index]\n",
    "        GB = GradientBoostingClassifier()\n",
    "        GB.fit(X_train, Y_train)\n",
    "        YHat = GB.predict(X_test)\n",
    "        Score = f1_score(Y_test, YHat)\n",
    "        SCORES.append(Score)\n",
    "\n",
    "        if Score>= BestScore:\n",
    "            BestScore = Score\n",
    "            Solver = GB\n",
    "            BestKFold = i"
   ]
  },
  {
   "cell_type": "code",
   "execution_count": 108,
   "metadata": {},
   "outputs": [
    {
     "data": {
      "text/plain": [
       "6"
      ]
     },
     "execution_count": 108,
     "metadata": {},
     "output_type": "execute_result"
    }
   ],
   "source": [
    "BestKFold"
   ]
  }
 ],
 "metadata": {
  "kernelspec": {
   "display_name": "Python 3",
   "language": "python",
   "name": "python3"
  },
  "language_info": {
   "codemirror_mode": {
    "name": "ipython",
    "version": 3
   },
   "file_extension": ".py",
   "mimetype": "text/x-python",
   "name": "python",
   "nbconvert_exporter": "python",
   "pygments_lexer": "ipython3",
   "version": "3.7.6"
  }
 },
 "nbformat": 4,
 "nbformat_minor": 4
}
